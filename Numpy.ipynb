{
  "nbformat": 4,
  "nbformat_minor": 0,
  "metadata": {
    "colab": {
      "provenance": [],
      "toc_visible": true,
      "authorship_tag": "ABX9TyN5qUQ7uplEUdZpEFKqPR8n",
      "include_colab_link": true
    },
    "kernelspec": {
      "name": "python3",
      "display_name": "Python 3"
    },
    "language_info": {
      "name": "python"
    }
  },
  "cells": [
    {
      "cell_type": "markdown",
      "metadata": {
        "id": "view-in-github",
        "colab_type": "text"
      },
      "source": [
        "<a href=\"https://colab.research.google.com/github/NishmithaJR/Data-Analytics/blob/main/Numpy.ipynb\" target=\"_parent\"><img src=\"https://colab.research.google.com/assets/colab-badge.svg\" alt=\"Open In Colab\"/></a>"
      ]
    },
    {
      "cell_type": "code",
      "execution_count": null,
      "metadata": {
        "colab": {
          "base_uri": "https://localhost:8080/"
        },
        "id": "IvtyHxH91Pr1",
        "outputId": "97f5aea8-9cea-4b7c-f675-b2c8a2ea69c2"
      },
      "outputs": [
        {
          "output_type": "stream",
          "name": "stdout",
          "text": [
            "[1 2 3 4 5]\n",
            "<class 'numpy.ndarray'>\n"
          ]
        }
      ],
      "source": [
        "import numpy as np\n",
        "arr=np.array([1,2,3,4,5])\n",
        "print(arr)\n",
        "print(type(arr))"
      ]
    },
    {
      "cell_type": "code",
      "source": [
        "import numpy as np\n",
        "print(np.__version__)"
      ],
      "metadata": {
        "colab": {
          "base_uri": "https://localhost:8080/"
        },
        "id": "ATdNtZwG3QDO",
        "outputId": "a59693d6-c3b9-4226-a4e1-e11e93de75e9"
      },
      "execution_count": null,
      "outputs": [
        {
          "output_type": "stream",
          "name": "stdout",
          "text": [
            "1.26.4\n"
          ]
        }
      ]
    },
    {
      "cell_type": "code",
      "source": [
        "#use tuple to create numpy array\n",
        "import numpy as np\n",
        "arr = np.array((1, 2, 3, 4, 5))\n",
        "print(arr)"
      ],
      "metadata": {
        "colab": {
          "base_uri": "https://localhost:8080/"
        },
        "id": "yIWihTk98zFz",
        "outputId": "b5c79630-c4e3-48e9-9abf-71fa4210a17e"
      },
      "execution_count": null,
      "outputs": [
        {
          "output_type": "stream",
          "name": "stdout",
          "text": [
            "[1 2 3 4 5]\n"
          ]
        }
      ]
    },
    {
      "cell_type": "code",
      "source": [
        "#Create a 2-D array containing the values 1,2,3,4,5 and 5,6,7,8,9:\n",
        "arr=np.array([[1,2,3,4,5],[5,6,7,8,9]])\n",
        "print(arr)"
      ],
      "metadata": {
        "colab": {
          "base_uri": "https://localhost:8080/"
        },
        "id": "2KhuNnuR9DXx",
        "outputId": "49c377a4-3e47-4e2e-cfed-7d78c8d9138c"
      },
      "execution_count": null,
      "outputs": [
        {
          "output_type": "stream",
          "name": "stdout",
          "text": [
            "[[1 2 3 4 5]\n",
            " [5 6 7 8 9]]\n"
          ]
        }
      ]
    },
    {
      "cell_type": "code",
      "source": [
        "#Create a 1-D array containing the values 1,2,3,4,5:\n",
        "arr=np.array([1,2,3,4,5])\n",
        "print(arr)"
      ],
      "metadata": {
        "colab": {
          "base_uri": "https://localhost:8080/"
        },
        "id": "9SoLUOSp9LD5",
        "outputId": "d9a1a26d-97f3-427a-885b-91722301c5d2"
      },
      "execution_count": null,
      "outputs": [
        {
          "output_type": "stream",
          "name": "stdout",
          "text": [
            "[1 2 3 4 5]\n"
          ]
        }
      ]
    },
    {
      "cell_type": "code",
      "source": [
        "#Create a 3-D array with two 2-D arrays, both containing two arrays with the values 1,2,3 and 4,5,6\n",
        "arr = np.array([[[1, 2, 3], [4, 5, 6]], [[1, 2, 3], [4, 5, 6]]])\n",
        "print(arr)"
      ],
      "metadata": {
        "colab": {
          "base_uri": "https://localhost:8080/"
        },
        "id": "WLJViWbY9NlB",
        "outputId": "aaaf3db0-c4a5-4ee9-8b01-e8227b39ed75"
      },
      "execution_count": null,
      "outputs": [
        {
          "output_type": "stream",
          "name": "stdout",
          "text": [
            "[[[1 2 3]\n",
            "  [4 5 6]]\n",
            "\n",
            " [[1 2 3]\n",
            "  [4 5 6]]]\n"
          ]
        }
      ]
    },
    {
      "cell_type": "code",
      "source": [
        "a = np.array(42)\n",
        "b = np.array([1, 2, 3, 4, 5])\n",
        "c = np.array([[1, 2, 3], [4, 5, 6]])\n",
        "d = np.array([[[1, 2, 3], [4, 5, 6]], [[1, 2, 3], [4, 5, 6]]])\n",
        "print(a.ndim)\n",
        "print(b.ndim)\n",
        "print(c.ndim)\n",
        "print(d.ndim)"
      ],
      "metadata": {
        "colab": {
          "base_uri": "https://localhost:8080/"
        },
        "id": "TC44tqfP9dVx",
        "outputId": "b8ffe368-2c0f-4ac3-e1ef-41dd7c34eede"
      },
      "execution_count": null,
      "outputs": [
        {
          "output_type": "stream",
          "name": "stdout",
          "text": [
            "0\n",
            "1\n",
            "2\n",
            "3\n"
          ]
        }
      ]
    },
    {
      "cell_type": "code",
      "source": [
        "#Create an array with 5 dimensions and verify that it has 5 dimensions:\n",
        "arr = np.array([1, 2, 3, 4], ndmin=5)\n",
        "print(arr)\n",
        "print('number of dimensions :', arr.ndim)"
      ],
      "metadata": {
        "colab": {
          "base_uri": "https://localhost:8080/"
        },
        "id": "ZI_li0wR9h_U",
        "outputId": "02dd58d8-30f8-4c2a-a230-30059e1c9aa7"
      },
      "execution_count": null,
      "outputs": [
        {
          "output_type": "stream",
          "name": "stdout",
          "text": [
            "[[[[[1 2 3 4]]]]]\n",
            "number of dimensions : 5\n"
          ]
        }
      ]
    },
    {
      "cell_type": "code",
      "source": [
        "#access array element using indexing\n",
        "arr = np.array([1, 2, 3, 4])\n",
        "print(arr[1])\n",
        "print(arr[2] + arr[3])"
      ],
      "metadata": {
        "colab": {
          "base_uri": "https://localhost:8080/"
        },
        "id": "82eOy00W9lW9",
        "outputId": "f7b0eae3-4e13-478d-dccd-fc508fa9bf24"
      },
      "execution_count": null,
      "outputs": [
        {
          "output_type": "stream",
          "name": "stdout",
          "text": [
            "2\n",
            "7\n"
          ]
        }
      ]
    },
    {
      "cell_type": "code",
      "source": [
        "#accessing of 2D-array element\n",
        "arr = np.array([[1,2,3,4,5], [6,7,8,9,10]])\n",
        "print('2nd element on 1st row: ', arr[0, 1])\n",
        "print('5th element on 2nd row: ', arr[1, 4])"
      ],
      "metadata": {
        "colab": {
          "base_uri": "https://localhost:8080/"
        },
        "id": "VMoJU1xF9sND",
        "outputId": "a3a54ff0-b4a4-49af-a603-82e9ff15bc34"
      },
      "execution_count": null,
      "outputs": [
        {
          "output_type": "stream",
          "name": "stdout",
          "text": [
            "2nd element on 1st row:  2\n",
            "5th element on 2nd row:  10\n"
          ]
        }
      ]
    },
    {
      "cell_type": "code",
      "source": [
        "#Access 3-D Arrays\n",
        "arr = np.array([[[1, 2, 3], [4, 5, 6]], [[7, 8, 9], [10, 11, 12]]])\n",
        "print(arr[0, 1, 2])"
      ],
      "metadata": {
        "colab": {
          "base_uri": "https://localhost:8080/"
        },
        "id": "9rTGkqyF9uCh",
        "outputId": "ba5a01e5-a5f1-49a4-d62f-cd19342edd1b"
      },
      "execution_count": null,
      "outputs": [
        {
          "output_type": "stream",
          "name": "stdout",
          "text": [
            "6\n"
          ]
        }
      ]
    },
    {
      "cell_type": "code",
      "source": [
        "arr = np.array([[1,2,3,4,5], [6,7,8,9,10]])\n",
        "print('Last element from 2nd dim: ', arr[1, -1])"
      ],
      "metadata": {
        "colab": {
          "base_uri": "https://localhost:8080/"
        },
        "id": "iJAybHlo96Lv",
        "outputId": "f0de0d47-d9cb-4b0b-9ff6-4da5893fa76c"
      },
      "execution_count": null,
      "outputs": [
        {
          "output_type": "stream",
          "name": "stdout",
          "text": [
            "Last element from 2nd dim:  10\n"
          ]
        }
      ]
    },
    {
      "cell_type": "markdown",
      "source": [
        "Slicing arrays"
      ],
      "metadata": {
        "id": "q_iX4z8p-Htf"
      }
    },
    {
      "cell_type": "code",
      "source": [
        "import numpy as np\n",
        "arr = np.array([1, 2, 3, 4, 5, 6, 7])\n",
        "print(arr[1:5])\n",
        "print(arr[4:])\n",
        "print(arr[:4])\n",
        "print(arr[-3:-1])\n",
        "print(arr[1:5:2])\n",
        "print(arr[::2])"
      ],
      "metadata": {
        "colab": {
          "base_uri": "https://localhost:8080/"
        },
        "id": "-kzfzLBa-KgB",
        "outputId": "65e86d29-2cd9-4b11-e20e-feae0c34e7a9"
      },
      "execution_count": null,
      "outputs": [
        {
          "output_type": "stream",
          "name": "stdout",
          "text": [
            "[2 3 4 5]\n",
            "[5 6 7]\n",
            "[1 2 3 4]\n",
            "[5 6]\n",
            "[2 4]\n",
            "[1 3 5 7]\n"
          ]
        }
      ]
    },
    {
      "cell_type": "code",
      "source": [
        "#Slicing 2-D Arrays\n",
        "arr = np.array([[1, 2, 3, 4, 5], [6, 7, 8, 9, 10]])\n",
        "print(arr[1, 1:4])\n",
        "print(arr[0, 0:6])\n",
        "print(arr[0:2, 2])\n",
        "print(arr[0:2, 1:4])"
      ],
      "metadata": {
        "colab": {
          "base_uri": "https://localhost:8080/"
        },
        "id": "bB5C6hvX-RiG",
        "outputId": "10e1688f-3823-4dc7-8809-fd535a8b5761"
      },
      "execution_count": null,
      "outputs": [
        {
          "output_type": "stream",
          "name": "stdout",
          "text": [
            "[7 8 9]\n",
            "[1 2 3 4 5]\n",
            "[3 8]\n",
            "[[2 3 4]\n",
            " [7 8 9]]\n"
          ]
        }
      ]
    },
    {
      "cell_type": "markdown",
      "source": [
        "Data Types in NumPy"
      ],
      "metadata": {
        "id": "3WTZhCXc-bLf"
      }
    },
    {
      "cell_type": "code",
      "source": [
        "arr = np.array(['apple', 'banana', 'cherry'])\n",
        "print(arr.dtype)\n",
        "arr = np.array([1, 2, 3, 4])\n",
        "print(arr.dtype)"
      ],
      "metadata": {
        "colab": {
          "base_uri": "https://localhost:8080/"
        },
        "id": "2bzeISR9-e-g",
        "outputId": "fe6bb09c-837a-41c9-a828-d2528513e675"
      },
      "execution_count": null,
      "outputs": [
        {
          "output_type": "stream",
          "name": "stdout",
          "text": [
            "<U6\n",
            "int64\n"
          ]
        }
      ]
    },
    {
      "cell_type": "code",
      "source": [
        "#create a array with data type stirng\n",
        "arr = np.array([1, 2, 3, 4], dtype='S')\n",
        "print(arr)\n",
        "print(arr.dtype)"
      ],
      "metadata": {
        "colab": {
          "base_uri": "https://localhost:8080/"
        },
        "id": "3EYSPGqn-5X-",
        "outputId": "13dc5bc7-b883-46b3-daf8-633509dcb20e"
      },
      "execution_count": null,
      "outputs": [
        {
          "output_type": "stream",
          "name": "stdout",
          "text": [
            "[b'1' b'2' b'3' b'4']\n",
            "|S1\n"
          ]
        }
      ]
    },
    {
      "cell_type": "code",
      "source": [
        "#Create an array with data type 4 bytes integer:\n",
        "arr = np.array([1, 2, 3, 4], dtype='i4')\n",
        "print(arr)\n",
        "print(arr.dtype)"
      ],
      "metadata": {
        "colab": {
          "base_uri": "https://localhost:8080/"
        },
        "id": "Cpma29lU-8zs",
        "outputId": "82591215-5291-4ac2-9b86-4e88ee865248"
      },
      "execution_count": null,
      "outputs": [
        {
          "output_type": "stream",
          "name": "stdout",
          "text": [
            "[1 2 3 4]\n",
            "int32\n"
          ]
        }
      ]
    },
    {
      "cell_type": "markdown",
      "source": [
        "Converting Data Type on Existing Arrays"
      ],
      "metadata": {
        "id": "8hZq-gth_Ku9"
      }
    },
    {
      "cell_type": "code",
      "source": [
        "#change data type float into integer\n",
        "arr = np.array([1.1, 2.1, 3.1])\n",
        "print(arr.dtype)\n",
        "newarr = arr.astype('int')\n",
        "print(newarr)\n",
        "print(newarr.dtype)"
      ],
      "metadata": {
        "colab": {
          "base_uri": "https://localhost:8080/"
        },
        "id": "-x-9GtUe_NV9",
        "outputId": "915da43e-14d6-4b11-d63a-9faf061bee8e"
      },
      "execution_count": null,
      "outputs": [
        {
          "output_type": "stream",
          "name": "stdout",
          "text": [
            "float64\n",
            "[1 2 3]\n",
            "int64\n"
          ]
        }
      ]
    },
    {
      "cell_type": "markdown",
      "source": [
        "The Difference Between Copy and View"
      ],
      "metadata": {
        "id": "MKLEFelt_UA8"
      }
    },
    {
      "cell_type": "code",
      "source": [
        "arr = np.array([1, 2, 3, 4, 5])\n",
        "x = arr.copy()\n",
        "arr[0] = 42\n",
        "print(arr)\n",
        "print(x)"
      ],
      "metadata": {
        "colab": {
          "base_uri": "https://localhost:8080/"
        },
        "id": "zTmyfjr4_VJ0",
        "outputId": "485e5e52-aa42-4a17-aa58-4a3ebb4ac6e9"
      },
      "execution_count": null,
      "outputs": [
        {
          "output_type": "stream",
          "name": "stdout",
          "text": [
            "[42  2  3  4  5]\n",
            "[1 2 3 4 5]\n"
          ]
        }
      ]
    },
    {
      "cell_type": "code",
      "source": [
        "arr = np.array([1, 2, 3, 4, 5])\n",
        "x = arr.view()\n",
        "arr[0] = 42\n",
        "print(arr)\n",
        "print(x)"
      ],
      "metadata": {
        "colab": {
          "base_uri": "https://localhost:8080/"
        },
        "id": "mrYJa5Eq_Y4j",
        "outputId": "a7a598dc-c049-4724-8ebf-42d87f23f23f"
      },
      "execution_count": null,
      "outputs": [
        {
          "output_type": "stream",
          "name": "stdout",
          "text": [
            "[42  2  3  4  5]\n",
            "[42  2  3  4  5]\n"
          ]
        }
      ]
    },
    {
      "cell_type": "markdown",
      "source": [
        "Get the Shape of an Array"
      ],
      "metadata": {
        "id": "_33FfQlJ_pum"
      }
    },
    {
      "cell_type": "code",
      "source": [
        "arr = np.array([[1, 2, 3, 4], [5, 6, 7, 8]])\n",
        "print(arr.shape)"
      ],
      "metadata": {
        "colab": {
          "base_uri": "https://localhost:8080/"
        },
        "id": "w-NF6PC3_qlU",
        "outputId": "08ca3fee-fc30-410e-d824-7a895c6e0510"
      },
      "execution_count": null,
      "outputs": [
        {
          "output_type": "stream",
          "name": "stdout",
          "text": [
            "(2, 4)\n"
          ]
        }
      ]
    },
    {
      "cell_type": "markdown",
      "source": [
        "Reshaping arrays"
      ],
      "metadata": {
        "id": "OpnfmOuU_xYi"
      }
    },
    {
      "cell_type": "code",
      "source": [
        "arr = np.array([1, 2, 3, 4, 5, 6, 7, 8, 9, 10, 11, 12])\n",
        "newarr = arr.reshape(4, 3)\n",
        "print(newarr)"
      ],
      "metadata": {
        "colab": {
          "base_uri": "https://localhost:8080/"
        },
        "id": "5f_dm9gI_0b6",
        "outputId": "2520bc50-e509-4a3b-ef3d-a23ab78c33a3"
      },
      "execution_count": null,
      "outputs": [
        {
          "output_type": "stream",
          "name": "stdout",
          "text": [
            "[[ 1  2  3]\n",
            " [ 4  5  6]\n",
            " [ 7  8  9]\n",
            " [10 11 12]]\n"
          ]
        }
      ]
    },
    {
      "cell_type": "code",
      "source": [
        "arr = np.array([1, 2, 3, 4, 5, 6, 7, 8, 9, 10, 11, 12])\n",
        "newarr = arr.reshape(2, 3, 2)\n",
        "print(newarr)"
      ],
      "metadata": {
        "colab": {
          "base_uri": "https://localhost:8080/"
        },
        "id": "9Nfsal1R_4kb",
        "outputId": "3b90dcf2-e616-4619-88f2-b5a6519dec9c"
      },
      "execution_count": null,
      "outputs": [
        {
          "output_type": "stream",
          "name": "stdout",
          "text": [
            "[[[ 1  2]\n",
            "  [ 3  4]\n",
            "  [ 5  6]]\n",
            "\n",
            " [[ 7  8]\n",
            "  [ 9 10]\n",
            "  [11 12]]]\n"
          ]
        }
      ]
    },
    {
      "cell_type": "markdown",
      "source": [
        "Iterating Arrays"
      ],
      "metadata": {
        "id": "4IeByS3s_-Ok"
      }
    },
    {
      "cell_type": "code",
      "source": [
        "arr = np.array([1, 2, 3])\n",
        "for x in arr:\n",
        "  print(x)"
      ],
      "metadata": {
        "colab": {
          "base_uri": "https://localhost:8080/"
        },
        "id": "1IPfN7ri__F9",
        "outputId": "44eaa5c9-a8a1-482a-b3aa-c2c7e53c7547"
      },
      "execution_count": null,
      "outputs": [
        {
          "output_type": "stream",
          "name": "stdout",
          "text": [
            "1\n",
            "2\n",
            "3\n"
          ]
        }
      ]
    },
    {
      "cell_type": "code",
      "source": [
        "arr = np.array([[1, 2, 3], [4, 5, 6]])\n",
        "for x in arr:\n",
        "  print(x)"
      ],
      "metadata": {
        "colab": {
          "base_uri": "https://localhost:8080/"
        },
        "id": "_8Q6ERVSAIrS",
        "outputId": "f5ea1003-f216-4d05-ef86-3ba338d245d2"
      },
      "execution_count": null,
      "outputs": [
        {
          "output_type": "stream",
          "name": "stdout",
          "text": [
            "[1 2 3]\n",
            "[4 5 6]\n"
          ]
        }
      ]
    },
    {
      "cell_type": "code",
      "source": [
        "arr = np.array([[1, 2, 3], [4, 5, 6]])\n",
        "for x in arr:\n",
        "  for y in x:\n",
        "    print(y)"
      ],
      "metadata": {
        "colab": {
          "base_uri": "https://localhost:8080/"
        },
        "id": "vYvLQP5TAQHt",
        "outputId": "0e707243-bd10-4ee9-b391-52a38d1bf493"
      },
      "execution_count": null,
      "outputs": [
        {
          "output_type": "stream",
          "name": "stdout",
          "text": [
            "1\n",
            "2\n",
            "3\n",
            "4\n",
            "5\n",
            "6\n"
          ]
        }
      ]
    },
    {
      "cell_type": "code",
      "source": [
        "arr = np.array([[[1, 2, 3], [4, 5, 6]], [[7, 8, 9], [10, 11, 12]]])\n",
        "for x in arr:\n",
        "  print(x)"
      ],
      "metadata": {
        "colab": {
          "base_uri": "https://localhost:8080/"
        },
        "id": "X3VtM7nwAWyy",
        "outputId": "46835648-91dd-45b8-8d9a-51acd809026f"
      },
      "execution_count": null,
      "outputs": [
        {
          "output_type": "stream",
          "name": "stdout",
          "text": [
            "[[1 2 3]\n",
            " [4 5 6]]\n",
            "[[ 7  8  9]\n",
            " [10 11 12]]\n"
          ]
        }
      ]
    },
    {
      "cell_type": "code",
      "source": [
        "arr = np.array([[[1, 2, 3], [4, 5, 6]], [[7, 8, 9], [10, 11, 12]]])\n",
        "for x in arr:\n",
        "  for y in x:\n",
        "    for z in y:\n",
        "      print(z)"
      ],
      "metadata": {
        "colab": {
          "base_uri": "https://localhost:8080/"
        },
        "id": "E3d7mMkAAbBF",
        "outputId": "03ee790a-cfea-42e4-8f90-564177243e56"
      },
      "execution_count": null,
      "outputs": [
        {
          "output_type": "stream",
          "name": "stdout",
          "text": [
            "1\n",
            "2\n",
            "3\n",
            "4\n",
            "5\n",
            "6\n",
            "7\n",
            "8\n",
            "9\n",
            "10\n",
            "11\n",
            "12\n"
          ]
        }
      ]
    },
    {
      "cell_type": "code",
      "source": [
        "# 3-d array using nditer() method\n",
        "arr = np.array([[[1, 2], [3, 4]], [[5, 6], [7, 8]]])\n",
        "for x in np.nditer(arr):\n",
        "  print(x)"
      ],
      "metadata": {
        "colab": {
          "base_uri": "https://localhost:8080/"
        },
        "id": "G1i3duW2AklI",
        "outputId": "6142e95e-7e78-49c4-ca40-0c5101a7b80b"
      },
      "execution_count": null,
      "outputs": [
        {
          "output_type": "stream",
          "name": "stdout",
          "text": [
            "1\n",
            "2\n",
            "3\n",
            "4\n",
            "5\n",
            "6\n",
            "7\n",
            "8\n"
          ]
        }
      ]
    },
    {
      "cell_type": "code",
      "source": [
        "# Iterate through every scalar element of the 2D array skipping 1 element:\n",
        "arr = np.array([[1, 2, 3, 4], [5, 6, 7, 8]])\n",
        "for x in np.nditer(arr[:, ::2]):\n",
        "  print(x)"
      ],
      "metadata": {
        "colab": {
          "base_uri": "https://localhost:8080/"
        },
        "id": "X7_o0fq6Amqo",
        "outputId": "47ab4b3d-88af-42d7-b6aa-6e6f95b2690c"
      },
      "execution_count": null,
      "outputs": [
        {
          "output_type": "stream",
          "name": "stdout",
          "text": [
            "1\n",
            "3\n",
            "5\n",
            "7\n"
          ]
        }
      ]
    },
    {
      "cell_type": "code",
      "source": [
        "# Sometimes we require corresponding index of the element while iterating, the ndenumerate(\n",
        "arr = np.array([1, 2, 3])\n",
        "for idx, x in np.ndenumerate(arr):\n",
        "  print(idx, x)"
      ],
      "metadata": {
        "colab": {
          "base_uri": "https://localhost:8080/"
        },
        "id": "gskLElOjAuuQ",
        "outputId": "e9d35a93-323d-42f3-d61e-a4f8521dfde4"
      },
      "execution_count": null,
      "outputs": [
        {
          "output_type": "stream",
          "name": "stdout",
          "text": [
            "(0,) 1\n",
            "(1,) 2\n",
            "(2,) 3\n"
          ]
        }
      ]
    },
    {
      "cell_type": "code",
      "source": [
        "#initializing numpy array with same number\n",
        "arr=np.full((2,2),10)\n",
        "print(arr)"
      ],
      "metadata": {
        "colab": {
          "base_uri": "https://localhost:8080/"
        },
        "id": "oat0uovYAzs7",
        "outputId": "32f1fb81-8ef7-41df-cf6c-8dd560219541"
      },
      "execution_count": null,
      "outputs": [
        {
          "output_type": "stream",
          "name": "stdout",
          "text": [
            "[[10 10]\n",
            " [10 10]]\n"
          ]
        }
      ]
    },
    {
      "cell_type": "code",
      "source": [
        "#initializing numpy array within a range\n",
        "arr=np.arange(10,20)\n",
        "print(arr)"
      ],
      "metadata": {
        "colab": {
          "base_uri": "https://localhost:8080/"
        },
        "id": "SPXscf1RA4ix",
        "outputId": "6aa7f0f7-cbc0-44a1-d7bc-81a69fe1fbe8"
      },
      "execution_count": null,
      "outputs": [
        {
          "output_type": "stream",
          "name": "stdout",
          "text": [
            "[10 11 12 13 14 15 16 17 18 19]\n"
          ]
        }
      ]
    },
    {
      "cell_type": "code",
      "source": [
        "arr=np.arange(10,50,5)\n",
        "print(arr)"
      ],
      "metadata": {
        "colab": {
          "base_uri": "https://localhost:8080/"
        },
        "id": "QNZi7Fw_A7GQ",
        "outputId": "99bc0e7c-43c5-4ada-acb3-99ea97227fb5"
      },
      "execution_count": null,
      "outputs": [
        {
          "output_type": "stream",
          "name": "stdout",
          "text": [
            "[10 15 20 25 30 35 40 45]\n"
          ]
        }
      ]
    },
    {
      "cell_type": "code",
      "source": [
        "# generate random number in array\n",
        "arr=np.random.randint(1,100,5)\n",
        "print(arr)"
      ],
      "metadata": {
        "colab": {
          "base_uri": "https://localhost:8080/"
        },
        "id": "pb-KcjdjA_3K",
        "outputId": "a5cdaac4-7f76-47de-b916-fedb9433ab68"
      },
      "execution_count": null,
      "outputs": [
        {
          "output_type": "stream",
          "name": "stdout",
          "text": [
            "[59 11 98 42 20]\n"
          ]
        }
      ]
    },
    {
      "cell_type": "markdown",
      "source": [
        "Joining NumPy Arrays"
      ],
      "metadata": {
        "id": "4IzUqmGCBECy"
      }
    },
    {
      "cell_type": "code",
      "source": [
        "arr1 = np.array([1, 2, 3])\n",
        "arr2 = np.array([4, 5, 6])\n",
        "arr = np.concatenate((arr1, arr2))\n",
        "print(arr)"
      ],
      "metadata": {
        "colab": {
          "base_uri": "https://localhost:8080/"
        },
        "id": "yaZsoNE9BM0q",
        "outputId": "9cdfb8fe-5c15-4ebc-f24f-39a113d486d3"
      },
      "execution_count": null,
      "outputs": [
        {
          "output_type": "stream",
          "name": "stdout",
          "text": [
            "[1 2 3 4 5 6]\n"
          ]
        }
      ]
    },
    {
      "cell_type": "code",
      "source": [
        "arr1 = np.array([[1, 2], [3, 4]])\n",
        "arr2 = np.array([[5, 6], [7, 8]])\n",
        "arr = np.concatenate((arr1, arr2), axis=1)\n",
        "print(arr)"
      ],
      "metadata": {
        "colab": {
          "base_uri": "https://localhost:8080/"
        },
        "id": "vPAT-EejBZCJ",
        "outputId": "74f91c07-b143-48de-9c37-30d25ba29ec2"
      },
      "execution_count": null,
      "outputs": [
        {
          "output_type": "stream",
          "name": "stdout",
          "text": [
            "[[1 2 5 6]\n",
            " [3 4 7 8]]\n"
          ]
        }
      ]
    },
    {
      "cell_type": "markdown",
      "source": [
        "Using Stack Function"
      ],
      "metadata": {
        "id": "FILNQvI-Bhau"
      }
    },
    {
      "cell_type": "code",
      "source": [
        "import numpy as np\n",
        "arr1 = np.array([1, 2, 3])\n",
        "arr2 = np.array([4, 5, 6])\n",
        "arr = np.stack((arr1, arr2), axis=1)\n",
        "print(arr)"
      ],
      "metadata": {
        "colab": {
          "base_uri": "https://localhost:8080/"
        },
        "id": "2CaVUH-EBdZY",
        "outputId": "87c86c68-0b11-4a8e-e1da-c9b012516116"
      },
      "execution_count": null,
      "outputs": [
        {
          "output_type": "stream",
          "name": "stdout",
          "text": [
            "[[1 4]\n",
            " [2 5]\n",
            " [3 6]]\n"
          ]
        }
      ]
    },
    {
      "cell_type": "code",
      "source": [
        "arr1 = np.array([1, 2, 3])\n",
        "arr2 = np.array([4, 5, 6])\n",
        "arr = np.hstack((arr1, arr2))\n",
        "print(arr)"
      ],
      "metadata": {
        "colab": {
          "base_uri": "https://localhost:8080/"
        },
        "id": "BuEfkQJNBpBo",
        "outputId": "6717e659-4325-49a8-be55-13fad165e98e"
      },
      "execution_count": null,
      "outputs": [
        {
          "output_type": "stream",
          "name": "stdout",
          "text": [
            "[1 2 3 4 5 6]\n"
          ]
        }
      ]
    },
    {
      "cell_type": "code",
      "source": [
        "arr1 = np.array([1, 2, 3])\n",
        "arr2 = np.array([4, 5, 6])\n",
        "arr = np.vstack((arr1, arr2))\n",
        "print(arr)"
      ],
      "metadata": {
        "colab": {
          "base_uri": "https://localhost:8080/"
        },
        "id": "cyGAQ3PVBwhE",
        "outputId": "a795d7a1-b583-4bab-c6bb-8ff6c4b4f768"
      },
      "execution_count": null,
      "outputs": [
        {
          "output_type": "stream",
          "name": "stdout",
          "text": [
            "[[1 2 3]\n",
            " [4 5 6]]\n"
          ]
        }
      ]
    },
    {
      "cell_type": "code",
      "source": [
        "arr1 = np.array([1, 2, 3])\n",
        "arr2 = np.array([4, 5, 6])\n",
        "arr = np.dstack((arr1, arr2))\n",
        "print(arr)"
      ],
      "metadata": {
        "colab": {
          "base_uri": "https://localhost:8080/"
        },
        "id": "0RWkeMMeBxmU",
        "outputId": "1bb7851c-8c3f-4b77-b22f-c961c7113072"
      },
      "execution_count": null,
      "outputs": [
        {
          "output_type": "stream",
          "name": "stdout",
          "text": [
            "[[[1 4]\n",
            "  [2 5]\n",
            "  [3 6]]]\n"
          ]
        }
      ]
    },
    {
      "cell_type": "markdown",
      "source": [
        "numpy intersection and difference"
      ],
      "metadata": {
        "id": "eq2K_FwXB4PN"
      }
    },
    {
      "cell_type": "code",
      "source": [
        "arr1=np.array([1,2,3,4,5])\n",
        "arr2=np.array([3,4,5,6,8])\n",
        "np.intersect1d(arr1,arr2)"
      ],
      "metadata": {
        "colab": {
          "base_uri": "https://localhost:8080/"
        },
        "id": "O_spEBOcB5IN",
        "outputId": "fd8b930d-cc41-4e04-f134-5f09cc4e60bd"
      },
      "execution_count": null,
      "outputs": [
        {
          "output_type": "execute_result",
          "data": {
            "text/plain": [
              "array([3, 4, 5])"
            ]
          },
          "metadata": {},
          "execution_count": 49
        }
      ]
    },
    {
      "cell_type": "code",
      "source": [
        "#return uniq element from arr1\n",
        "np.setdiff1d(arr1,arr2)"
      ],
      "metadata": {
        "colab": {
          "base_uri": "https://localhost:8080/"
        },
        "id": "QzB7jW_7EHnO",
        "outputId": "6ad21996-6a3a-449a-88a4-8e0c0cfb2b89"
      },
      "execution_count": null,
      "outputs": [
        {
          "output_type": "execute_result",
          "data": {
            "text/plain": [
              "array([1, 2])"
            ]
          },
          "metadata": {},
          "execution_count": 50
        }
      ]
    },
    {
      "cell_type": "code",
      "source": [
        "#return uniq element from arr2\n",
        "np.setdiff1d(arr2,arr1)"
      ],
      "metadata": {
        "colab": {
          "base_uri": "https://localhost:8080/"
        },
        "id": "977HH7yREaYu",
        "outputId": "3fa985b3-b9fa-4675-e094-f23e743b8f7f"
      },
      "execution_count": null,
      "outputs": [
        {
          "output_type": "execute_result",
          "data": {
            "text/plain": [
              "array([6, 8])"
            ]
          },
          "metadata": {},
          "execution_count": 51
        }
      ]
    },
    {
      "cell_type": "markdown",
      "source": [
        "Addition of numpy array"
      ],
      "metadata": {
        "id": "bRe0FkS_EeGF"
      }
    },
    {
      "cell_type": "code",
      "source": [
        "arr1=np.array([1,2,3,4,5])\n",
        "arr2=np.array([3,4,5,6,8])\n",
        "a=np.sum([arr1,arr2])\n",
        "print(a)"
      ],
      "metadata": {
        "colab": {
          "base_uri": "https://localhost:8080/"
        },
        "id": "ULLYcPODEgIr",
        "outputId": "20b03dc7-10bb-46f2-a918-d59eda067502"
      },
      "execution_count": null,
      "outputs": [
        {
          "output_type": "stream",
          "name": "stdout",
          "text": [
            "41\n"
          ]
        }
      ]
    },
    {
      "cell_type": "code",
      "source": [
        "arr1=np.array([1,2,3,4,5])\n",
        "arr2=np.array([3,4,5,6,8])\n",
        "a=np.sum([arr1,arr2], axis=0)\n",
        "print(a)"
      ],
      "metadata": {
        "colab": {
          "base_uri": "https://localhost:8080/"
        },
        "id": "-fHSk2BYEuUH",
        "outputId": "3de3a908-8906-4ee2-ec84-9f406740a68c"
      },
      "execution_count": null,
      "outputs": [
        {
          "output_type": "stream",
          "name": "stdout",
          "text": [
            "[ 4  6  8 10 13]\n"
          ]
        }
      ]
    },
    {
      "cell_type": "code",
      "source": [
        "arr1=np.array([1,2,3,4,5])\n",
        "arr2=np.array([3,4,5,6,8])\n",
        "a=np.sum([arr1,arr2], axis=1)\n",
        "print(a)"
      ],
      "metadata": {
        "colab": {
          "base_uri": "https://localhost:8080/"
        },
        "id": "KeMPpOosE0qy",
        "outputId": "b4689683-3aca-4c5b-9754-67d72997c9bc"
      },
      "execution_count": null,
      "outputs": [
        {
          "output_type": "stream",
          "name": "stdout",
          "text": [
            "[15 26]\n"
          ]
        }
      ]
    },
    {
      "cell_type": "markdown",
      "source": [
        "numpy array mathematics"
      ],
      "metadata": {
        "id": "8J7kFnTIE3Vi"
      }
    },
    {
      "cell_type": "code",
      "source": [
        "#basic Addition\n",
        "arr=np.array([10,20,30])\n",
        "arr=arr+1\n",
        "print(arr)"
      ],
      "metadata": {
        "colab": {
          "base_uri": "https://localhost:8080/"
        },
        "id": "R-viJzJJE4HK",
        "outputId": "0ce545b8-9a16-48c9-838b-8038a7cd9acd"
      },
      "execution_count": null,
      "outputs": [
        {
          "output_type": "stream",
          "name": "stdout",
          "text": [
            "[11 21 31]\n"
          ]
        }
      ]
    },
    {
      "cell_type": "code",
      "source": [
        "#basic subtraction\n",
        "arr=np.array([10,20,30])\n",
        "arr=arr-1\n",
        "print(arr)"
      ],
      "metadata": {
        "colab": {
          "base_uri": "https://localhost:8080/"
        },
        "id": "Iyc5qCAnE78z",
        "outputId": "d5e7ac7b-a5d9-498b-cedd-646005d4f621"
      },
      "execution_count": null,
      "outputs": [
        {
          "output_type": "stream",
          "name": "stdout",
          "text": [
            "[ 9 19 29]\n"
          ]
        }
      ]
    },
    {
      "cell_type": "code",
      "source": [
        "#basic multiplication\n",
        "arr=np.array([10,20,30])\n",
        "arr=arr*2\n",
        "print(arr)"
      ],
      "metadata": {
        "colab": {
          "base_uri": "https://localhost:8080/"
        },
        "id": "TNi45gGTE_gU",
        "outputId": "f841a61f-305c-411e-9637-befd798dc56b"
      },
      "execution_count": null,
      "outputs": [
        {
          "output_type": "stream",
          "name": "stdout",
          "text": [
            "[20 40 60]\n"
          ]
        }
      ]
    },
    {
      "cell_type": "code",
      "source": [
        "#basic division\n",
        "arr=np.array([10,20,30])\n",
        "arr=arr/2\n",
        "print(arr)"
      ],
      "metadata": {
        "colab": {
          "base_uri": "https://localhost:8080/"
        },
        "id": "TymM2kMKFFAE",
        "outputId": "85c0aa25-08f7-4a67-d40d-d5be87a7b93d"
      },
      "execution_count": null,
      "outputs": [
        {
          "output_type": "stream",
          "name": "stdout",
          "text": [
            "[ 5. 10. 15.]\n"
          ]
        }
      ]
    },
    {
      "cell_type": "code",
      "source": [
        "arr=np.array([10,20,30])\n",
        "np.mean(arr)"
      ],
      "metadata": {
        "colab": {
          "base_uri": "https://localhost:8080/"
        },
        "id": "oGoBeAK5FIWr",
        "outputId": "645e8697-283e-4203-8dbd-80c954536e60"
      },
      "execution_count": null,
      "outputs": [
        {
          "output_type": "execute_result",
          "data": {
            "text/plain": [
              "20.0"
            ]
          },
          "metadata": {},
          "execution_count": 59
        }
      ]
    },
    {
      "cell_type": "code",
      "source": [
        "arr=np.array([10,20,30])\n",
        "np.median(arr)"
      ],
      "metadata": {
        "colab": {
          "base_uri": "https://localhost:8080/"
        },
        "id": "1mRxtY0QFLfJ",
        "outputId": "de6c49ed-9975-4805-9ff0-1c956db9b4f5"
      },
      "execution_count": null,
      "outputs": [
        {
          "output_type": "execute_result",
          "data": {
            "text/plain": [
              "20.0"
            ]
          },
          "metadata": {},
          "execution_count": 60
        }
      ]
    },
    {
      "cell_type": "code",
      "source": [
        "arr=np.array([10,20,30])\n",
        "np.std(arr)"
      ],
      "metadata": {
        "colab": {
          "base_uri": "https://localhost:8080/"
        },
        "id": "YjZuvj9cFRxC",
        "outputId": "db7d8cb8-7c3b-4b28-c6c4-843f80f50b56"
      },
      "execution_count": null,
      "outputs": [
        {
          "output_type": "execute_result",
          "data": {
            "text/plain": [
              "8.16496580927726"
            ]
          },
          "metadata": {},
          "execution_count": 61
        }
      ]
    },
    {
      "cell_type": "code",
      "source": [
        "np.save('myarray', arr)"
      ],
      "metadata": {
        "id": "kU6xSqWXFUub"
      },
      "execution_count": null,
      "outputs": []
    },
    {
      "cell_type": "code",
      "source": [
        "newary=np.load('myarray.npy',)"
      ],
      "metadata": {
        "id": "Bmt39OXVFVt8"
      },
      "execution_count": null,
      "outputs": []
    },
    {
      "cell_type": "code",
      "source": [
        "print(newary)"
      ],
      "metadata": {
        "colab": {
          "base_uri": "https://localhost:8080/"
        },
        "id": "1h3J527eFg19",
        "outputId": "c0b7ec68-4dec-4c74-e56f-cf249555731e"
      },
      "execution_count": null,
      "outputs": [
        {
          "output_type": "stream",
          "name": "stdout",
          "text": [
            "[10 20 30]\n"
          ]
        }
      ]
    },
    {
      "cell_type": "markdown",
      "source": [
        "Splitting NumPy Arrays"
      ],
      "metadata": {
        "id": "83O-nh-6Fjjz"
      }
    },
    {
      "cell_type": "code",
      "source": [
        "import numpy as np\n",
        "arr=np.array([1,2,3,4,5])\n",
        "new_arr=np.array_split(arr,3)\n",
        "print(new_arr)\n",
        "print(new_arr[0]) #access array using indexing\n",
        "print(new_arr[1])\n",
        "print(new_arr[2])"
      ],
      "metadata": {
        "colab": {
          "base_uri": "https://localhost:8080/"
        },
        "id": "FhxT3t7VFkcp",
        "outputId": "d7b95bba-7e52-48aa-d780-71ca3b7403f7"
      },
      "execution_count": null,
      "outputs": [
        {
          "output_type": "stream",
          "name": "stdout",
          "text": [
            "[array([1, 2]), array([3, 4]), array([5])]\n",
            "[1 2]\n",
            "[3 4]\n",
            "[5]\n"
          ]
        }
      ]
    },
    {
      "cell_type": "code",
      "source": [
        "#splititng 2D array\n",
        "arr = np.array([[1, 2], [3, 4], [5, 6], [7, 8], [9, 10], [11, 12]])\n",
        "newarr = np.array_split(arr, 3)\n",
        "print(newarr)"
      ],
      "metadata": {
        "colab": {
          "base_uri": "https://localhost:8080/"
        },
        "id": "4gkTK9ZzFqUa",
        "outputId": "a9b5baf3-964c-477f-88dc-6edffa59eca3"
      },
      "execution_count": null,
      "outputs": [
        {
          "output_type": "stream",
          "name": "stdout",
          "text": [
            "[array([[1, 2],\n",
            "       [3, 4]]), array([[5, 6],\n",
            "       [7, 8]]), array([[ 9, 10],\n",
            "       [11, 12]])]\n"
          ]
        }
      ]
    },
    {
      "cell_type": "code",
      "source": [
        "#Use the hsplit() method to split the 2-D array into three 2-D arrays along rows\n",
        "arr = np.array([[1, 2, 3], [4, 5, 6], [7, 8, 9], [10, 11, 12], [13, 14, 15], [16, 17, 18]])\n",
        "# newarr = np.hsplit(arr, 3)\n",
        "newarr = np.array_split(arr, 3, axis=1)\n",
        "print(newarr)"
      ],
      "metadata": {
        "colab": {
          "base_uri": "https://localhost:8080/"
        },
        "id": "tS7rbpQkFunJ",
        "outputId": "f7e8adbf-1cf5-41e1-e13a-fd9236241003"
      },
      "execution_count": null,
      "outputs": [
        {
          "output_type": "stream",
          "name": "stdout",
          "text": [
            "[array([[ 1],\n",
            "       [ 4],\n",
            "       [ 7],\n",
            "       [10],\n",
            "       [13],\n",
            "       [16]]), array([[ 2],\n",
            "       [ 5],\n",
            "       [ 8],\n",
            "       [11],\n",
            "       [14],\n",
            "       [17]]), array([[ 3],\n",
            "       [ 6],\n",
            "       [ 9],\n",
            "       [12],\n",
            "       [15],\n",
            "       [18]])]\n"
          ]
        }
      ]
    },
    {
      "cell_type": "markdown",
      "source": [
        "Searching Arrays"
      ],
      "metadata": {
        "id": "yao9P95eF-GQ"
      }
    },
    {
      "cell_type": "code",
      "source": [
        "arr=np.array([1,2,3,4,5,6,4])\n",
        "x=np.where(arr==4) # return indexes where the value is 4:\n",
        "print(x)"
      ],
      "metadata": {
        "colab": {
          "base_uri": "https://localhost:8080/"
        },
        "id": "XDBVYNgbF6og",
        "outputId": "bf2aed64-43fa-48d2-ce31-d13160e3d628"
      },
      "execution_count": null,
      "outputs": [
        {
          "output_type": "stream",
          "name": "stdout",
          "text": [
            "(array([3, 6]),)\n"
          ]
        }
      ]
    },
    {
      "cell_type": "code",
      "source": [
        "arr=np.array([1,2,3,4,5,6,4])\n",
        "x=np.where(arr%2==0)\n",
        "print(x)"
      ],
      "metadata": {
        "colab": {
          "base_uri": "https://localhost:8080/"
        },
        "id": "P04CpzWdGFMg",
        "outputId": "5f476ebc-675c-4474-ed55-d540e0cbe081"
      },
      "execution_count": null,
      "outputs": [
        {
          "output_type": "stream",
          "name": "stdout",
          "text": [
            "(array([1, 3, 5, 6]),)\n"
          ]
        }
      ]
    },
    {
      "cell_type": "code",
      "source": [
        "# Find the indexes where the values are odd:\n",
        "arr=np.array([1,2,3,4,5,6,4])\n",
        "x=np.where(arr%2==1)\n",
        "print(x)"
      ],
      "metadata": {
        "colab": {
          "base_uri": "https://localhost:8080/"
        },
        "id": "6vKJabFTGHW7",
        "outputId": "703d6af3-87a9-40fa-e6a0-53d9380ed472"
      },
      "execution_count": null,
      "outputs": [
        {
          "output_type": "stream",
          "name": "stdout",
          "text": [
            "(array([0, 2, 4]),)\n"
          ]
        }
      ]
    },
    {
      "cell_type": "code",
      "source": [
        "# Find the indexes where the value 7 should be inserted:\n",
        "arr = np.array([6, 7, 8, 9])\n",
        "x = np.searchsorted(arr, 7)\n",
        "print(x)"
      ],
      "metadata": {
        "colab": {
          "base_uri": "https://localhost:8080/"
        },
        "id": "eGsckW7aGSrK",
        "outputId": "3e2b78cd-81ca-455c-bcb6-819745d88919"
      },
      "execution_count": null,
      "outputs": [
        {
          "output_type": "stream",
          "name": "stdout",
          "text": [
            "1\n"
          ]
        }
      ]
    },
    {
      "cell_type": "code",
      "source": [
        "# Find the indexes where the value 7 should be inserted, starting from the right:\n",
        "import numpy as np\n",
        "arr = np.array([6, 7, 8, 9])\n",
        "x = np.searchsorted(arr, 7, side='right')\n",
        "print(x)"
      ],
      "metadata": {
        "colab": {
          "base_uri": "https://localhost:8080/"
        },
        "id": "Ae_nQ3o5GWrh",
        "outputId": "7e469a49-3d36-42e5-d069-89d6ac570a75"
      },
      "execution_count": null,
      "outputs": [
        {
          "output_type": "stream",
          "name": "stdout",
          "text": [
            "2\n"
          ]
        }
      ]
    },
    {
      "cell_type": "markdown",
      "source": [
        "Sorting Arrays"
      ],
      "metadata": {
        "id": "IlWfjd2aGjBg"
      }
    },
    {
      "cell_type": "code",
      "source": [
        "import numpy as np\n",
        "arr = np.array([3, 2, 0, 1])\n",
        "print(np.sort(arr))"
      ],
      "metadata": {
        "colab": {
          "base_uri": "https://localhost:8080/"
        },
        "id": "t1_Ck8umGay_",
        "outputId": "7bca8837-65b2-4c0b-ae4e-331a32eb04ae"
      },
      "execution_count": null,
      "outputs": [
        {
          "output_type": "stream",
          "name": "stdout",
          "text": [
            "[0 1 2 3]\n"
          ]
        }
      ]
    },
    {
      "cell_type": "markdown",
      "source": [
        "Filtering Arrays"
      ],
      "metadata": {
        "id": "4zj4IGxMGqii"
      }
    },
    {
      "cell_type": "code",
      "source": [
        "arr = np.array([41, 42, 43, 44])\n",
        "x = [True, False, True, False]\n",
        "newarr = arr[x]\n",
        "print(newarr)"
      ],
      "metadata": {
        "colab": {
          "base_uri": "https://localhost:8080/"
        },
        "id": "uOfDw-1HGpGf",
        "outputId": "452b106d-38d2-4ba0-eb3a-0a97c757058d"
      },
      "execution_count": null,
      "outputs": [
        {
          "output_type": "stream",
          "name": "stdout",
          "text": [
            "[41 43]\n"
          ]
        }
      ]
    },
    {
      "cell_type": "code",
      "source": [
        "# Create a filter array that will return only values higher than 42:\n",
        "import numpy as np\n",
        "arr = np.array([41, 42, 43, 44])\n",
        "# Create an empty list\n",
        "filter_arr = []\n",
        "# go through each element in arr\n",
        "for element in arr:\n",
        "# if the element is higher than 42, set the value to True, otherwise False:\n",
        "  if element > 42:\n",
        "    filter_arr.append(True)\n",
        "  else:\n",
        "    filter_arr.append(False)\n",
        "newarr = arr[filter_arr]\n",
        "print(filter_arr)\n",
        "print(newarr)"
      ],
      "metadata": {
        "colab": {
          "base_uri": "https://localhost:8080/"
        },
        "id": "zOfP1fQcGxH-",
        "outputId": "290f63d5-524a-45fe-b026-35fbf3117947"
      },
      "execution_count": null,
      "outputs": [
        {
          "output_type": "stream",
          "name": "stdout",
          "text": [
            "[False, False, True, True]\n",
            "[43 44]\n"
          ]
        }
      ]
    },
    {
      "cell_type": "code",
      "source": [
        "# Create a filter array that will return only even elements from the original array:\n",
        "import numpy as np\n",
        "arr = np.array([1, 2, 3, 4, 5, 6, 7])\n",
        "# Create an empty list\n",
        "filter_arr = []\n",
        "# go through each element in arr\n",
        "for element in arr:\n",
        "# if the element is completely divisble by 2, set the value to True, otherwise False\n",
        "  if element % 2 == 0:\n",
        "    filter_arr.append(True)\n",
        "  else:\n",
        "    filter_arr.append(False)\n",
        "newarr = arr[filter_arr]\n",
        "print(filter_arr)\n",
        "print(newarr)"
      ],
      "metadata": {
        "colab": {
          "base_uri": "https://localhost:8080/"
        },
        "id": "iA-AKfcNHDXf",
        "outputId": "326123fa-2462-47e2-9fed-8291dad75b52"
      },
      "execution_count": null,
      "outputs": [
        {
          "output_type": "stream",
          "name": "stdout",
          "text": [
            "[False, True, False, True, False, True, False]\n",
            "[2 4 6]\n"
          ]
        }
      ]
    },
    {
      "cell_type": "code",
      "source": [
        "# Create a filter array that will return only values higher than 42:\n",
        "import numpy as np\n",
        "arr = np.array([41, 42, 43, 44])\n",
        "filter_arr = arr > 42\n",
        "newarr = arr[filter_arr]\n",
        "print(filter_arr)\n",
        "print(newarr)"
      ],
      "metadata": {
        "colab": {
          "base_uri": "https://localhost:8080/"
        },
        "id": "FPEoTCV-HVWM",
        "outputId": "31e9bdd6-9d77-4084-9a51-9e29533f5285"
      },
      "execution_count": null,
      "outputs": [
        {
          "output_type": "stream",
          "name": "stdout",
          "text": [
            "[False False  True  True]\n",
            "[43 44]\n"
          ]
        }
      ]
    }
  ]
}